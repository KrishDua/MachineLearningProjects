{
 "cells": [
  {
   "cell_type": "code",
   "execution_count": 1,
   "id": "dd854e15-3232-438f-b74e-c1ddc83d2855",
   "metadata": {},
   "outputs": [
    {
     "name": "stdout",
     "output_type": "stream",
     "text": [
      "(100, 2)\n"
     ]
    }
   ],
   "source": [
    "import numpy as np\n",
    "data = np.loadtxt(\"data.csv\",delimiter = \",\");\n",
    "print(data.shape);"
   ]
  },
  {
   "cell_type": "code",
   "execution_count": 2,
   "id": "cf56aa99-1cdd-418d-8d2b-7f987639270e",
   "metadata": {},
   "outputs": [
    {
     "name": "stdout",
     "output_type": "stream",
     "text": [
      "(100,) (100,)\n"
     ]
    }
   ],
   "source": [
    "x = data[:,0];\n",
    "y = data[:,1];\n",
    "print(x.shape,y.shape);"
   ]
  },
  {
   "cell_type": "code",
   "execution_count": 12,
   "id": "09640a07-1b33-4854-bf23-3a2a7562c7db",
   "metadata": {},
   "outputs": [],
   "source": [
    "def fit(x,y):\n",
    "    m = ((x*y).mean() - x.mean()*y.mean())/((x**2).mean() - x.mean()**2)\n",
    "    c = y.mean() - m*x.mean();\n",
    "    return (m,c);\n",
    "def predict(x,m,c):\n",
    "    return m*x + c;\n",
    "def score(ytest,ypred):\n",
    "    u = ((ytest - ypred)**2).sum();\n",
    "    v = ((ytest - ytest.mean())**2).sum();\n",
    "    return 1 - u/v;\n",
    "def cost(x,y,m,c):\n",
    "    return ((y - (m*x + c))**2).mean();"
   ]
  },
  {
   "cell_type": "code",
   "execution_count": 13,
   "id": "38d1ac3b-0ac4-4a71-a6eb-9a954508b1af",
   "metadata": {},
   "outputs": [
    {
     "name": "stdout",
     "output_type": "stream",
     "text": [
      "(70,) (70,) (30,) (30,)\n"
     ]
    }
   ],
   "source": [
    "from sklearn import model_selection as ms\n",
    "xtrain,xtest,ytrain,ytest = ms.train_test_split(x,y,test_size = 0.3);\n",
    "print(xtrain.shape,ytrain.shape,xtest.shape,ytest.shape);"
   ]
  },
  {
   "cell_type": "code",
   "execution_count": 14,
   "id": "2551d6fb-4e0b-449e-af13-94ac56377a24",
   "metadata": {},
   "outputs": [
    {
     "name": "stdout",
     "output_type": "stream",
     "text": [
      "1.211077764414202 13.841177782244962\n"
     ]
    }
   ],
   "source": [
    "m,c = fit(xtrain,ytrain);\n",
    "print(m,c);"
   ]
  },
  {
   "cell_type": "code",
   "execution_count": 15,
   "id": "6d1c9093-66e8-4f0b-bd2f-5835e3d786b3",
   "metadata": {},
   "outputs": [
    {
     "name": "stdout",
     "output_type": "stream",
     "text": [
      "(30,)\n"
     ]
    }
   ],
   "source": [
    "ytestpred = predict(xtest,m,c);\n",
    "print(ytestpred.shape)"
   ]
  },
  {
   "cell_type": "code",
   "execution_count": 16,
   "id": "ecde7697-d9c6-4a8f-950b-fccc759163b9",
   "metadata": {},
   "outputs": [
    {
     "name": "stdout",
     "output_type": "stream",
     "text": [
      "0.6451948136904784\n"
     ]
    }
   ],
   "source": [
    "accuracy = score(ytest,ytestpred);\n",
    "print(accuracy);"
   ]
  },
  {
   "cell_type": "code",
   "execution_count": 23,
   "id": "30d03394-e1b8-4b3b-b7a9-6193c1174375",
   "metadata": {},
   "outputs": [
    {
     "name": "stdout",
     "output_type": "stream",
     "text": [
      "110.41148360704157\n"
     ]
    }
   ],
   "source": [
    "totalcost = cost(xtest,ytest,m,c);\n",
    "print(totalcost);"
   ]
  },
  {
   "cell_type": "code",
   "execution_count": 24,
   "id": "c30ba920-f703-4695-a539-330d9ca9dd13",
   "metadata": {},
   "outputs": [
    {
     "name": "stdout",
     "output_type": "stream",
     "text": [
      "(70,)\n"
     ]
    }
   ],
   "source": [
    "ypred = predict(xtrain,m,c);\n",
    "print(ypred.shape)"
   ]
  },
  {
   "cell_type": "code",
   "execution_count": 25,
   "id": "2056fe7f-c6a1-4182-ac3c-039b8181be8a",
   "metadata": {},
   "outputs": [
    {
     "name": "stdout",
     "output_type": "stream",
     "text": [
      "0.5627217162627826\n"
     ]
    }
   ],
   "source": [
    "accuracy = score(ytrain,ypred);\n",
    "print(accuracy);"
   ]
  },
  {
   "cell_type": "code",
   "execution_count": 26,
   "id": "2db44289-c4dc-4b72-b28f-3e53007709e9",
   "metadata": {},
   "outputs": [
    {
     "name": "stdout",
     "output_type": "stream",
     "text": [
      "112.08401089749394\n"
     ]
    }
   ],
   "source": [
    "totalcost = cost(xtrain,ytrain,m,c);\n",
    "print(totalcost);"
   ]
  }
 ],
 "metadata": {
  "kernelspec": {
   "display_name": "Python 3 (ipykernel)",
   "language": "python",
   "name": "python3"
  },
  "language_info": {
   "codemirror_mode": {
    "name": "ipython",
    "version": 3
   },
   "file_extension": ".py",
   "mimetype": "text/x-python",
   "name": "python",
   "nbconvert_exporter": "python",
   "pygments_lexer": "ipython3",
   "version": "3.11.5"
  }
 },
 "nbformat": 4,
 "nbformat_minor": 5
}
